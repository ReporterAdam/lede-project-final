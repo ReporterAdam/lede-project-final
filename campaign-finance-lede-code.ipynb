{
 "cells": [
  {
   "cell_type": "code",
   "execution_count": 3,
   "id": "dc8bb083-a1be-4c66-916a-678e7e63c969",
   "metadata": {},
   "outputs": [],
   "source": [
    "## Welcome to the my Tennessee campaign finance internal database"
   ]
  },
  {
   "cell_type": "code",
   "execution_count": 4,
   "id": "defc0d71-892f-460a-aa08-0d33f2675cef",
   "metadata": {},
   "outputs": [],
   "source": [
    "import pandas as pd"
   ]
  },
  {
   "cell_type": "code",
   "execution_count": 5,
   "id": "d03aa7df-c551-4eb8-8d07-269fd7951395",
   "metadata": {},
   "outputs": [],
   "source": [
    "# This data comes from the Tennessee Registry of Election Finance campaign: https://apps.tn.gov/tncamp/public/cesearch.htm\n",
    "# I searched all donations made by each year, downloaded all the files and make a combined csv by year. This files are available in a seperate folder\n",
    "# NOTE: Contributions in year often run Jan. 16 to Jan. 15, so the report year won't always match date\n",
    "\n",
    "dfs = []\n",
    "\n",
    "#This is a loop because I named all my files the same\n",
    "#I added title report year as reference for fact checking later\n",
    "#NOTE: This does not include the the first half 2024 year for workflow purpose\n",
    "# On Jan. 30, 2025, this needs to be updated to (2009,2025)\n",
    "# Have to put 2024, otherwise it won't read the 2023 file\n",
    "\n",
    "for year in range(2009,2024):\n",
    "    df = pd.read_csv(f'Original TN contributions {year}.csv', low_memory=False)\n",
    "    df['Title Report Year'] = year\n",
    "    df['Amount'] = pd.to_numeric(df['Amount'], errors='coerce')\n",
    "    dfs.append(df)\n",
    "\n",
    "# This will need to be replace going forward \n",
    "df_2024 = pd.read_csv('Original TN Contributions 2024 thru July 25.csv',low_memory=False)\n",
    "df_2024['Title Report Year'] = 2024\n",
    "df_2024['Amount'] = pd.to_numeric(df_2024['Amount'], errors='coerce')\n",
    "\n",
    "#Bringing in Bill Lee's inaugural files\n",
    "#DATA CAVEAT: The inaugural reports for Gov. Bill Haslam are not available\n",
    "df_Lee_2019 = pd.read_csv('Gov. Bill Lee 2019 Inauguaration contributions.csv',low_memory=False)\n",
    "df_Lee_2019['Title Report Year'] = 2019\n",
    "df_Lee_2019['Amount'] = pd.to_numeric(df_Lee_2019['Amount'], errors='coerce')\n",
    "\n",
    "df_Lee_2023 = pd.read_csv('Gov. Bill Lee 2023 Inauguaration contributions.csv',low_memory=False)\n",
    "df_Lee_2023['Title Report Year'] = 2023\n",
    "df_Lee_2023['Amount'] = pd.to_numeric(df_Lee_2023['Amount'], errors='coerce')\n",
    "\n",
    "#Adding the Lee inaguaration and 2024 file into the overall dataframe\n",
    "dfs.append(df_2024)\n",
    "dfs.append(df_Lee_2019)\n",
    "dfs.append(df_Lee_2023)\n",
    "\n",
    "#Combining all the dataframes into one file, this file is called the 2009 to most recent date available\n",
    "df_tn_contributions_2009_to_June_30_2024 = pd.concat(dfs, ignore_index=True)"
   ]
  },
  {
   "cell_type": "code",
   "execution_count": 6,
   "id": "a95db718-0abf-4d11-bbe3-eeba6fe71814",
   "metadata": {},
   "outputs": [],
   "source": [
    "#Now I'm going to clean up the df_tn_contributions_2009_to_June_30_2024 before I start cross referencing it with other files\n",
    "\n",
    "#I'm going to rename Recipient Name to original-name-of-recipient-of-donation \n",
    "df_tn_contributions_2009_to_June_30_2024 = df_tn_contributions_2009_to_June_30_2024.rename(columns={'Recipient Name': 'original-name-of-recipient-of-donation'})\n",
    "\n",
    "#I'm going to rename Contributor Name to original-name-of-donor\n",
    "df_tn_contributions_2009_to_June_30_2024 = df_tn_contributions_2009_to_June_30_2024.rename(columns={'Contributor Name': 'original-name-of-donor'})\n",
    "\n",
    "#Lets make everything proper names instead of all caps\n",
    "\n",
    "df_tn_contributions_2009_to_June_30_2024['Type'] = df_tn_contributions_2009_to_June_30_2024['Type'].str.title()\n",
    "df_tn_contributions_2009_to_June_30_2024['Adj'] = df_tn_contributions_2009_to_June_30_2024['Adj'].str.title()\n",
    "df_tn_contributions_2009_to_June_30_2024['Date'] = df_tn_contributions_2009_to_June_30_2024['Date'].str.title()\n",
    "df_tn_contributions_2009_to_June_30_2024['Report Name'] = df_tn_contributions_2009_to_June_30_2024['Report Name'].str.title()\n",
    "df_tn_contributions_2009_to_June_30_2024['original-name-of-recipient-of-donation'] = df_tn_contributions_2009_to_June_30_2024['original-name-of-recipient-of-donation'].str.title()\n",
    "df_tn_contributions_2009_to_June_30_2024['original-name-of-donor'] = df_tn_contributions_2009_to_June_30_2024['original-name-of-donor'].str.title()\n",
    "df_tn_contributions_2009_to_June_30_2024['Contributor Address'] = df_tn_contributions_2009_to_June_30_2024['Contributor Address'].str.title()\n",
    "df_tn_contributions_2009_to_June_30_2024['Contributor Occupation'] = df_tn_contributions_2009_to_June_30_2024['Contributor Occupation'].str.title()\n",
    "df_tn_contributions_2009_to_June_30_2024['Contributor Employer'] = df_tn_contributions_2009_to_June_30_2024['Contributor Employer'].str.title()\n",
    "\n",
    "# Dealing with the amount column\n",
    "df_tn_contributions_2009_to_June_30_2024['Amount'] = df_tn_contributions_2009_to_June_30_2024['Amount'].fillna(0)\n",
    "\n",
    "# Ensure 'amount' is converted to integers if required\n",
    "df_tn_contributions_2009_to_June_30_2024['Amount'] = df_tn_contributions_2009_to_June_30_2024['Amount'].astype(int)"
   ]
  },
  {
   "cell_type": "code",
   "execution_count": 7,
   "id": "8324cf24-010d-496b-bd9d-8c4ada9cf08c",
   "metadata": {},
   "outputs": [
    {
     "name": "stderr",
     "output_type": "stream",
     "text": [
      "/var/folders/tt/pm7f52p57852vpw35wsk8mgr0000gn/T/ipykernel_10082/1651428919.py:10: UserWarning: Could not infer format, so each element will be parsed individually, falling back to `dateutil`. To ensure parsing is consistent and as-expected, please specify a format.\n",
      "  df_tn_contributions_2009_to_June_30_2024['Date'] = pd.to_datetime(df_tn_contributions_2009_to_June_30_2024['Date'])\n"
     ]
    }
   ],
   "source": [
    "#Need to make sure date is read as a date\n",
    "\n",
    "\n",
    "#There are 2196 rows where no date is given, but I know the year of the report, therefor I'm going to change the date to Jan. 1 of that year, late I'll drop the date column\n",
    "\n",
    "df_tn_contributions_2009_to_June_30_2024['Date'] = df_tn_contributions_2009_to_June_30_2024.apply(\n",
    "    lambda row: pd.to_datetime(f\"1-1-{row['Title Report Year']}\") if pd.isnull(row['Date']) else row['Date'], axis=1\n",
    ")\n",
    "# Convert 'Date' column to datetime, handling errors by coercing to NaT\n",
    "df_tn_contributions_2009_to_June_30_2024['Date'] = pd.to_datetime(df_tn_contributions_2009_to_June_30_2024['Date'])\n",
    "df_tn_contributions_2009_to_June_30_2024['Date'] = df_tn_contributions_2009_to_June_30_2024['Date'].dt.strftime('%m/%d/%Y')\n",
    "\n",
    "# I will get an error here, but I can ignore it and keep going"
   ]
  },
  {
   "cell_type": "code",
   "execution_count": 8,
   "id": "8a453c03-e373-4ef2-a067-d79aa2767d61",
   "metadata": {},
   "outputs": [],
   "source": [
    "# Run data time again no error \n",
    "df_tn_contributions_2009_to_June_30_2024['Date'] = pd.to_datetime(df_tn_contributions_2009_to_June_30_2024['Date'])"
   ]
  },
  {
   "cell_type": "code",
   "execution_count": 9,
   "id": "91a8c000-5c02-441c-bc95-f8e4eaaa3d6d",
   "metadata": {},
   "outputs": [],
   "source": [
    "## Remove dollar signs and commas, and handle parentheses\n",
    "df_tn_contributions_2009_to_June_30_2024['Amount'] = df_tn_contributions_2009_to_June_30_2024['Amount'].replace('[\\$,]', '', regex=True)\n",
    "\n",
    "# Convert to numeric\n",
    "df_tn_contributions_2009_to_June_30_2024['Amount'] = pd.to_numeric(df_tn_contributions_2009_to_June_30_2024['Amount'])\n",
    "\n",
    "#For adjustment if its say Y it means it was returned, and therefor its basically a negative return\n",
    "#First renaming it to adjustment because that's easier to understand\n",
    "df_tn_contributions_2009_to_June_30_2024 = df_tn_contributions_2009_to_June_30_2024.rename(columns={'Adj': 'Adjustment'})\n",
    "df_tn_contributions_2009_to_June_30_2024.loc[df_tn_contributions_2009_to_June_30_2024['Adjustment'] == 'Y', 'Amount'] = df_tn_contributions_2009_to_June_30_2024['Amount'] * -1\n",
    "df_tn_contributions_2009_to_June_30_2024['Adjustment'] = df_tn_contributions_2009_to_June_30_2024['Adjustment'].replace({'N': '', 'Y': 'Money Returned'})"
   ]
  },
  {
   "cell_type": "code",
   "execution_count": 10,
   "id": "45a7ca42-a65b-44de-8300-295bb51f4044",
   "metadata": {},
   "outputs": [],
   "source": [
    "#Dropping null values\n",
    "df_tn_contributions_2009_to_June_30_2024 = df_tn_contributions_2009_to_June_30_2024.dropna(subset=['original-name-of-donor'])\n",
    "\n",
    "\n",
    "#Now at this point I'm saving this giant file in a dataframe called df_tn_contributions_2009_to_June_30_2024_raw\n",
    "\n",
    "df_tn_contributions_2009_to_June_30_2024_raw = df_tn_contributions_2009_to_June_30_2024\n"
   ]
  },
  {
   "cell_type": "code",
   "execution_count": 11,
   "id": "6da437a0-b9b9-476e-b5f1-fc1238ea0b31",
   "metadata": {},
   "outputs": [],
   "source": [
    "#This is where it gets more difficult\n",
    "\n",
    "#I'm reading in the giant file of candidates and creating dataframe for future reference that has distinct names with their history\n",
    "df_tn_candidates_09to24_original = pd.read_csv('All people who ran for office 2009 to 2024.csv')\n",
    "\n",
    "#Need to get each politicians name and their results for reference purposes for later\n",
    "#This will also contain PACs and candidates linked to them\n",
    "#Everything is merged on original name\n",
    "#The new dataframe will be called df_tn_candidates_09to24\n",
    "\n",
    "df_tn_candidates_09to24_original['Results'] = df_tn_candidates_09to24_original.apply(\n",
    "    lambda row: f\"{row['Year']} : {row['office sought']} - {row['General win/lost']}\", axis=1)\n",
    "\n",
    "df_tn_candidates_09to24 = df_tn_candidates_09to24_original.groupby('Original-name').agg({\n",
    "    'Original-name': 'first',\n",
    "    'Fixed-name': 'first',\n",
    "    'Party': 'first',\n",
    "    'City': 'first',\n",
    "    'Results': lambda x: ' | '.join(x)\n",
    "}).reset_index(drop=True)"
   ]
  },
  {
   "cell_type": "code",
   "execution_count": 12,
   "id": "a898fb29-33b8-409d-b9cc-cdc204811a40",
   "metadata": {},
   "outputs": [],
   "source": [
    "#This file contains more specific names of contributors, mainly corporations and big family donors\n",
    "df_behind_the_pacs = pd.read_csv('The company behind the PAC and mergers.csv')"
   ]
  },
  {
   "cell_type": "code",
   "execution_count": 13,
   "id": "f9cba7dc-b76e-40d8-85ea-33feb8170bab",
   "metadata": {},
   "outputs": [],
   "source": [
    "#I want all the donations made to candidate, parties and PACs affilated with those\n",
    "df_tn_contributions_2009_to_June_30_2024_merging_donor_recipient_names = pd.merge(df_tn_contributions_2009_to_June_30_2024, df_tn_candidates_09to24, left_on='original-name-of-recipient-of-donation', right_on='Original-name', how='left')\n",
    "\n",
    "df_tn_contributions_2009_to_June_30_2024_merging_donor_recipient_names = pd.merge(df_tn_contributions_2009_to_June_30_2024_merging_donor_recipient_names, df_behind_the_pacs, left_on='original-name-of-donor', right_on='Original-donor-name', how='left')\n",
    "\n",
    "#Creating a raw file of all merging, this services as save point\n",
    "df_tn_contributions_2009_to_June_30_2024_merging_donor_recipient_names_raw = df_tn_contributions_2009_to_June_30_2024_merging_donor_recipient_names"
   ]
  },
  {
   "cell_type": "code",
   "execution_count": 14,
   "id": "da4dc997-3e90-492f-a6b9-47c5865fd88d",
   "metadata": {},
   "outputs": [],
   "source": [
    "#Now I'm reorganizing the files so that I have what I want\n",
    "\n",
    "df_tn_contributions_2009_to_June_30_2024_all_candidatesinfo_partiesinfo_pacsinfo_donorsinfo = df_tn_contributions_2009_to_June_30_2024_merging_donor_recipient_names.rename(columns={\n",
    "    'Fixed-name':'name-of-recipient-of-donation',\n",
    "    'Company-affiliated-name' : 'name-of-donor',\n",
    "    'Amount': 'donation-amount',\n",
    "    'Date' : 'date-of-donation',\n",
    "    'Title Report Year' : 'report-year',\n",
    "    'Party': 'political-party-of-recipient',\n",
    "    'City': 'city-of-recipient',\n",
    "    'Bought out/name change' : 'did-this-company-change-its-name-or-bought-out-since-2009'\n",
    "    \n",
    "\n",
    "})\n",
    "\n",
    "df_tn_contributions_2009_to_June_30_2024_all_candidatesinfo_partiesinfo_pacsinfo_donorsinfo = df_tn_contributions_2009_to_June_30_2024_all_candidatesinfo_partiesinfo_pacsinfo_donorsinfo[\n",
    "    ['name-of-recipient-of-donation', 'name-of-donor', 'donation-amount', 'date-of-donation', 'report-year', 'political-party-of-recipient', 'city-of-recipient', 'did-this-company-change-its-name-or-bought-out-since-2009', 'original-name-of-recipient-of-donation', 'original-name-of-donor']\n",
    "]\n",
    "\n",
    "#Replace anywhere where name-of-donor is null with original-name-of-donor\n",
    "df_tn_contributions_2009_to_June_30_2024_all_candidatesinfo_partiesinfo_pacsinfo_donorsinfo.loc[\n",
    "    df_tn_contributions_2009_to_June_30_2024_all_candidatesinfo_partiesinfo_pacsinfo_donorsinfo['name-of-donor'].isna(), 'name-of-donor'\n",
    "] = df_tn_contributions_2009_to_June_30_2024_all_candidatesinfo_partiesinfo_pacsinfo_donorsinfo['original-name-of-donor']"
   ]
  },
  {
   "cell_type": "code",
   "execution_count": 15,
   "id": "16f81a98-2cb2-411a-8e68-55768120a135",
   "metadata": {},
   "outputs": [],
   "source": [
    "#Filter out for just candidates, parties and pacs\n",
    "df_tn_contributions_2009_to_June_30_2024_donors_to_candidates_parties_and_their_pacs = df_tn_contributions_2009_to_June_30_2024_all_candidatesinfo_partiesinfo_pacsinfo_donorsinfo[df_tn_contributions_2009_to_June_30_2024_all_candidatesinfo_partiesinfo_pacsinfo_donorsinfo['name-of-recipient-of-donation'].notna()]\n",
    "\n",
    "df_tn_contributions_2009_to_June_30_2024_donors_to_candidates_parties_and_their_pacs = pd.merge(df_tn_contributions_2009_to_June_30_2024_donors_to_candidates_parties_and_their_pacs, df_behind_the_pacs, left_on='original-name-of-donor', right_on='Original-donor-name', how='left')\n",
    "\n",
    "\n",
    "#Dropped null rows of 680 that had nothing in them\n",
    "df_tn_contributions_2009_to_June_30_2024_donors_to_candidates_parties_and_their_pacs = df_tn_contributions_2009_to_June_30_2024_donors_to_candidates_parties_and_their_pacs.dropna(subset=['original-name-of-donor'])\n",
    "\n",
    "#Now I need to reorganize the rows in this file\n",
    "#Dropping irrevlevant columns\n",
    "df_tn_contributions_2009_to_June_30_2024_donors_to_candidates_parties_and_their_pacs = df_tn_contributions_2009_to_June_30_2024_donors_to_candidates_parties_and_their_pacs.drop(columns=['Original-donor-name', 'Bought out/name change', 'Company-affiliated-name'  ])\n"
   ]
  },
  {
   "cell_type": "code",
   "execution_count": 16,
   "id": "259ba66a-4fb8-4cbe-8534-6faf9ea67198",
   "metadata": {},
   "outputs": [],
   "source": [
    "#Filter out for just candidates, parties and pacs\n",
    "df_tn_contributions_2009_to_June_30_2024_donors_to_PACs_that_donated_to_candidates = df_tn_contributions_2009_to_June_30_2024_all_candidatesinfo_partiesinfo_pacsinfo_donorsinfo[df_tn_contributions_2009_to_June_30_2024_all_candidatesinfo_partiesinfo_pacsinfo_donorsinfo['name-of-recipient-of-donation'].isna()]\n",
    "\n",
    "df_tn_contributions_2009_to_June_30_2024_donors_to_PACs_that_donated_to_candidates = pd.merge(df_tn_contributions_2009_to_June_30_2024_donors_to_PACs_that_donated_to_candidates, df_behind_the_pacs, left_on='original-name-of-recipient-of-donation', right_on='Original-donor-name', how='left')\n",
    "\n",
    "\n",
    "#Dropped null rows of 680 that had nothing in them\n",
    "df_tn_contributions_2009_to_June_30_2024_donors_to_PACs_that_donated_to_candidates = df_tn_contributions_2009_to_June_30_2024_donors_to_PACs_that_donated_to_candidates.dropna(subset=['original-name-of-donor'])\n",
    "\n",
    "#Now I need to reorganize the rows in this file\n",
    "#Dropping irrevlevant columns\n",
    "df_tn_contributions_2009_to_June_30_2024_donors_to_PACs_that_donated_to_candidates = df_tn_contributions_2009_to_June_30_2024_donors_to_PACs_that_donated_to_candidates.drop(columns=['name-of-recipient-of-donation', 'name-of-donor', 'political-party-of-recipient', 'city-of-recipient', 'did-this-company-change-its-name-or-bought-out-since-2009', 'Original-donor-name'])\n",
    "\n",
    "\n",
    "df_tn_contributions_2009_to_June_30_2024_donors_to_PACs_that_donated_to_candidates = df_tn_contributions_2009_to_June_30_2024_donors_to_PACs_that_donated_to_candidates.rename(columns={\n",
    "    'Company-affiliated-name':'name-of-recipient-of-donation',\n",
    "    'original-name-of-donor' : 'name-of-donor',\n",
    "    'Bought out/name change' : 'did-this-company-change-its-name-or-bought-out-since-2009'\n",
    "    \n",
    "\n",
    "})\n",
    "\n",
    "df_tn_contributions_2009_to_June_30_2024_donors_to_PACs_that_donated_to_candidates = df_tn_contributions_2009_to_June_30_2024_donors_to_PACs_that_donated_to_candidates[\n",
    "    ['name-of-recipient-of-donation', 'name-of-donor', 'donation-amount', 'date-of-donation', 'report-year', 'did-this-company-change-its-name-or-bought-out-since-2009', 'original-name-of-recipient-of-donation']\n",
    "]\n",
    "\n",
    "#Replace anywhere where name-of-donor is null with original-name-of-donor\n",
    "df_tn_contributions_2009_to_June_30_2024_donors_to_PACs_that_donated_to_candidates.loc[\n",
    "    df_tn_contributions_2009_to_June_30_2024_donors_to_PACs_that_donated_to_candidates['name-of-recipient-of-donation'].isna(), 'name-of-recipient-of-donation'\n",
    "] = df_tn_contributions_2009_to_June_30_2024_donors_to_PACs_that_donated_to_candidates['original-name-of-recipient-of-donation']\n",
    "\n"
   ]
  },
  {
   "cell_type": "code",
   "execution_count": 17,
   "id": "e282ce05-1c45-43ff-acd4-67f694f9d6a2",
   "metadata": {},
   "outputs": [],
   "source": [
    "#Currented elected status\n",
    "\n",
    "df_current_elected_status_TN = pd.read_csv('Current-elected-status.csv')\n",
    "\n",
    "current_elected_merged_df = pd.merge(\n",
    "    df_tn_contributions_2009_to_June_30_2024_donors_to_candidates_parties_and_their_pacs,\n",
    "    df_current_elected_status_TN,\n",
    "    how='left', \n",
    "    on='name-of-recipient-of-donation'\n",
    ")\n",
    "\n",
    "\n",
    "df_tn_contributions_2009_to_June_30_2024_all_candidates_parties_and_their_pacs_elected_status = current_elected_merged_df\n",
    "\n",
    "df_tn_contributions_2009_to_June_30_2024_all_candidates_parties_and_their_pacs_elected_status = df_tn_contributions_2009_to_June_30_2024_all_candidates_parties_and_their_pacs_elected_status.rename(columns={\n",
    "    'Current status': 'Are they currently an elected official?'\n",
    "})\n"
   ]
  },
  {
   "cell_type": "code",
   "execution_count": null,
   "id": "3531b2b5-6395-47a9-924b-82901f1c3e94",
   "metadata": {},
   "outputs": [],
   "source": [
    "#DATA FRAME FOR REFERENCE: Has each candidate name, party, city, results df_tn_candidates_09to24\n",
    "#NOTE: Might need to figure out PAC situation and party PAC stuff\n",
    "#NOTE: Probably need to get current elected status eventually\n",
    "\n",
    "#This is all donations to candidates, parties, pacs, with current elected status\n",
    "#DF1: df_tn_contributions_2009_to_June_30_2024_all_candidates_parties_and_their_pacs_elected_status\n",
    "\n",
    "#This is donations to all PACs\n",
    "#DF2: df_tn_contributions_2009_to_June_30_2024_donors_to_PACs_that_donated_to_candidates"
   ]
  },
  {
   "cell_type": "code",
   "execution_count": 19,
   "id": "b947fbe7-2908-4886-9b7e-8e21e3bce83b",
   "metadata": {},
   "outputs": [],
   "source": [
    "# This file will be used in lede-project-json-files-for-website-python-code\n",
    "df_tn_contributions_2009_to_June_30_2024_all_candidates_parties_and_their_pacs_elected_status.to_csv('72624-tn_contributions_2009_to_June_30_2024_all_candidates_parties_and_their_pacs_elected_status.csv', index=False)"
   ]
  },
  {
   "cell_type": "code",
   "execution_count": null,
   "id": "4e99754c-fbf4-4428-afd9-159040f0f58a",
   "metadata": {},
   "outputs": [],
   "source": []
  }
 ],
 "metadata": {
  "kernelspec": {
   "display_name": "Python 3 (ipykernel)",
   "language": "python",
   "name": "python3"
  },
  "language_info": {
   "codemirror_mode": {
    "name": "ipython",
    "version": 3
   },
   "file_extension": ".py",
   "mimetype": "text/x-python",
   "name": "python",
   "nbconvert_exporter": "python",
   "pygments_lexer": "ipython3",
   "version": "3.11.8"
  }
 },
 "nbformat": 4,
 "nbformat_minor": 5
}
